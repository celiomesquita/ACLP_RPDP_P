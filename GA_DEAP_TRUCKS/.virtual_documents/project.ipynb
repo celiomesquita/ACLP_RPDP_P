





# Imports
import numpy as np
import pandas as pd
import time

# Load values of datasets (.csv files)
ORDERS = pd.read_csv('Evo11_Auftraege.csv', sep=';', header=None, skiprows=1).fillna(0).values
VEHICLES = pd.read_csv('Evo11_LKW.csv', sep=';', header=None, skiprows=1).values

# Initialize constant variables for datasets (column indexes)
ORDER_NUMBER = 0
ORDER_TARGET = 1
ORDER_DRIVINGTIME = 2
ORDER_BOXES = 3
ORDER_WEIGHT = 4
ORDER_BONUS_TIMELIMIT = 5
ORDER_BONUS_EURO = 6
ORDER_REVENUE = 7
ORDER_PENALTY_TIMELIMIT = 8
ORDER_PENALTY_EURO = 9
VEHICLE_MAXAMOUNT = 1
VEHICLE_MAXWEIGHT = 2





# Create tour for each vehicle
def create_distribution(individuals):
    # Create empty 2D array of vehicle length -> [[][][][][][][][]]
    vehicle_distribution = [[] for _ in range(len(VEHICLES))]    
    current_orders = []
    current_vehicle = -1

    # Create dataset (split of vehicles and sort) -> Conversion of [0, 30, 2, 31, 3, 5, 32, ...] --> [[0, 2], [3, 5], [...], ...]
    for individual in individuals:
        # In case it is a vehicle
        if (individual >= len(ORDERS)): 
            # No previous vehicle
            if (current_vehicle == -1):
                current_vehicle = individual - len(ORDERS)
                vehicle_distribution[current_vehicle] = vehicle_distribution[current_vehicle] + current_orders
            # Previous vehicle exists
            else: 
                vehicle_distribution[current_vehicle] = vehicle_distribution[current_vehicle] + current_orders
                current_vehicle = individual - len(ORDERS)          
            current_orders = []            
        # In case it is an order add order to order list
        else: 
            current_orders.append(ORDERS[individual])
    vehicle_distribution[current_vehicle] = vehicle_distribution[current_vehicle] + current_orders
    return vehicle_distribution





# Evaluation of population
def evaluation(individual):
    return (fitness(create_distribution(individual)),)

# The fitness function can return different values for different use cases
# Nr.  |  description  |  value        | min/max   | Usecase
# ---------------------------------------------------------------------------------------------------
# 1.   |  Revenue      | total_revenue | maximize  | Get the most revenue from the orders
# 2.   |  Bonus        | total_bonus   | maximize  | Satisfy as many customers as possible
# 3.   |  Penalty      | total_penalty | maximize  | To bankrupt the company 
# 4.   |  Penalty      | total_penalty | minimize  | To anger the least amount of customers
# 5.   |  Time         | total_time    | minimize  | Protect environment or when vehicles are rented
def fitness(all_tours):
    # Initialize total tour variables for check
    total_revenue = 0
    total_bonus = 0
    total_penalty = 0
    total_time = 0

    # Enumerate all tours
    for tour_num, tour in enumerate(all_tours): 
        tour_time = 0
        current_boxes = 0
        current_weight = 0
    
        # Enumerate all orders in tour
        for order_num, order in enumerate(tour):
            # If last order did not have the same target, reset boxes and weight (unload vehicle)
            if (order_num > 0 and tour[order_num - 1][ORDER_TARGET] != order[ORDER_TARGET]):
                current_boxes = 0
                current_weight = 0

            # Check weight and amount of vehicle
            current_boxes += tour[order_num][ORDER_BOXES]
            current_weight += tour[order_num][ORDER_WEIGHT] * tour[order_num][ORDER_BOXES]            
            if(current_boxes > VEHICLES[tour_num][VEHICLE_MAXAMOUNT] or current_weight > VEHICLES[tour_num][VEHICLE_MAXWEIGHT]):
                # Invalid weight or amount of boxes -> returns 0 for maximum values. Change this to infinity if you want minimum (e.q. for minimum penalty)
                return 0 

            # Add time for journey there if there is no next order or the next order has a different target
            # If the next order has the same target -> add no more time
            no_next_or_different_order = order_num + 1 >= len(tour) or tour[order_num + 1][ORDER_TARGET] != order[ORDER_TARGET]
            if(no_next_or_different_order):
                tour_time += order[ORDER_DRIVINGTIME]
                
            # Check of timelimit: If order is in bonus limit add bonus else if higher than penalty time subtract penalty
            if (tour_time <= order[ORDER_BONUS_TIMELIMIT]):
                total_bonus += order[ORDER_BONUS_EURO] 
                total_revenue += order[ORDER_BONUS_EURO] 
            elif (tour_time > order[ORDER_PENALTY_TIMELIMIT]):
                total_penalty += order[ORDER_PENALTY_EURO]
                total_revenue -= order[ORDER_PENALTY_EURO]
            
            # Add time for journey back
            if(no_next_or_different_order):
                tour_time += order[ORDER_DRIVINGTIME]
                
            # Add revenue to total
            total_revenue += order[ORDER_REVENUE]
        total_time += tour_time
    # Change return variable to optimize other stuff
    return total_revenue 





# Use deap for evolutionary algorithms
from deap import algorithms, base, creator, tools

# Define Toolbox
toolbox = base.Toolbox()
creator.create("FitnessMax", base.Fitness, weights=(1.0, ))
creator.create("Individual", list, fitness=creator.FitnessMax)

# Individuals are a list from 0 - (ORDERS + VEHICLES) that are randomly shuffled 
toolbox.register("indices", np.random.permutation, (len(ORDERS) + len(VEHICLES)))
toolbox.register("individual", tools.initIterate, creator.Individual, toolbox.indices)
toolbox.register("population", tools.initRepeat, list, toolbox.individual)
toolbox.register("mate", tools.cxOrdered)

# Probability for each attribute to be exchanged to another position is 5%
toolbox.register("mutate", tools.mutShuffleIndexes, indpb=0.05)

# evaluate tour -> calculate fitness
toolbox.register("evaluate", evaluation)

# selection process with tournament of 10 individuals
toolbox.register("select", tools.selTournament, tournsize=10)

# population size
pop = toolbox.population(n=100)

# Register statistics
stats = tools.Statistics(key=lambda ind: ind.fitness.values)
stats.register("avg", np.mean)
stats.register("max", np.max)

# Start time
start = time.time()

# Perform optimization algorithm with 500 generations
result, log = algorithms.eaSimple(pop, toolbox, cxpb=0.1, mutpb=0.05, ngen=500, stats=stats, verbose=False)

# Elapsed time of algorithm
print("Found result in:", round((time.time() - start), 2), "seconds")





# Import myplot to show grafic
import matplotlib.pyplot as plt

# Select best individual of algorithm
best_individual = tools.selBest(result, k=1)[0]

# Convert distribution
best_distribution = create_distribution(best_individual)
print("Best distribution:")
print("--------------------")
# Format output
for distribution_idx, distribution in enumerate(best_distribution):
    print("Vehicle (LKW) " + str(distribution_idx + 1) + ": " + str([d[ORDER_NUMBER] for d in distribution]))
print("--------------------")
print("--> Best fitness: ", evaluation(best_individual)[0])

# Select statistics from learning process
record = stats.compile(result)
log.record(gen=0, evals=30, **record)
log.header = "gen", "avg", "max"

# Select values for plotting
gen = log.select("gen")[:-1]
fit_max = log.select("max")[:-1]
fit_avg = log.select("avg")[:-1]

# Plot generation number to fitness max and avarage
plt.plot(gen, fit_max, label="Maximum Fitness")
plt.plot(gen, fit_avg, label="Average Fitness")
plt.legend()
plt.show()



